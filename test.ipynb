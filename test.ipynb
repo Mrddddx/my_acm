{
 "cells": [
  {
   "cell_type": "code",
   "execution_count": 28,
   "metadata": {},
   "outputs": [
    {
     "name": "stdout",
     "output_type": "stream",
     "text": [
      "1000000\n"
     ]
    }
   ],
   "source": [
    "n = input()\n",
    "\n",
    "# --------请将代码写在下方------------\n",
    "n = int(n)\n",
    "k = 0\n",
    "t = 0\n",
    "ans = 0\n",
    "while 1 << k  <= n :\n",
    "    k += 1\n",
    "k -= 1\n",
    "while k >= 0 :\n",
    "    \n",
    "    ans = ans * 10 + n // (1 << k)\n",
    "    n =   n % (1 << k) \n",
    "    k -= 1\n",
    "print(ans)\n",
    "# ------------------------------------"
   ]
  }
 ],
 "metadata": {
  "kernelspec": {
   "display_name": "DG137",
   "language": "python",
   "name": "python3"
  },
  "language_info": {
   "codemirror_mode": {
    "name": "ipython",
    "version": 3
   },
   "file_extension": ".py",
   "mimetype": "text/x-python",
   "name": "python",
   "nbconvert_exporter": "python",
   "pygments_lexer": "ipython3",
   "version": "3.11.5"
  }
 },
 "nbformat": 4,
 "nbformat_minor": 2
}
